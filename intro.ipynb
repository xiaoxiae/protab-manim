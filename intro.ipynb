{
 "cells": [
  {
   "cell_type": "markdown",
   "id": "substantial-impact",
   "metadata": {},
   "source": [
    "# Vítej!"
   ]
  },
  {
   "cell_type": "markdown",
   "id": "first-armenia",
   "metadata": {},
   "source": [
    "Tento dokument obsahuje kód k vytváření základní animace."
   ]
  },
  {
   "cell_type": "code",
   "execution_count": 1,
   "id": "e03b150c",
   "metadata": {},
   "outputs": [
    {
     "data": {
      "text/html": [
       "<pre style=\"white-space:pre;overflow-x:auto;line-height:normal;font-family:Menlo,'DejaVu Sans Mono',consolas,'Courier New',monospace\">Manim Community <span style=\"color: #008000; text-decoration-color: #008000\">v0.17.3</span>\n",
       "\n",
       "</pre>\n"
      ],
      "text/plain": [
       "Manim Community \u001b[32mv0.\u001b[0m\u001b[32m17.3\u001b[0m\n",
       "\n"
      ]
     },
     "metadata": {},
     "output_type": "display_data"
    }
   ],
   "source": [
    "from manim import *"
   ]
  },
  {
   "cell_type": "markdown",
   "id": "5bd0ac2f",
   "metadata": {},
   "source": [
    "## Vlastní animace"
   ]
  },
  {
   "cell_type": "code",
   "execution_count": 17,
   "id": "01394a96",
   "metadata": {},
   "outputs": [
    {
     "name": "stderr",
     "output_type": "stream",
     "text": [
      "                                                                                                                                                   \r"
     ]
    },
    {
     "data": {
      "text/html": [
       "<video src=\"media/jupyter/Intro@2023-08-02@20-17-37.mp4\" controls autoplay loop style=\"max-width: 60%;\"  >\n",
       "      Your browser does not support the <code>video</code> element.\n",
       "    </video>"
      ],
      "text/plain": [
       "<IPython.core.display.Video object>"
      ]
     },
     "metadata": {},
     "output_type": "display_data"
    }
   ],
   "source": [
    "%%manim -v WARNING -qh Intro\n",
    "\n",
    "        \n",
    "class Intro(Scene):\n",
    "    def construct(self):\n",
    "        square = Square(color=BLUE, fill_opacity=1).shift(LEFT * 1.5)\n",
    "        circle = Circle().shift(RIGHT * 1.5)\n",
    "\n",
    "        # 0. dostaň objekty na scénu\n",
    "        self.play(FadeIn(square), Create(circle))\n",
    "\n",
    "        # 1. animate syntax\n",
    "        self.play(\n",
    "            square.animate.shift(UP).scale(0.5),\n",
    "            circle.animate.set_fill(GREEN, 0.75).set_stroke_color(GREEN).set_stroke_width(20),\n",
    "        )\n",
    "\n",
    "        # 2. pozicování\n",
    "        self.play(square.animate.next_to(circle, LEFT, buff=0.5))\n",
    "        self.play(square.animate.move_to(circle))"
   ]
  },
  {
   "cell_type": "code",
   "execution_count": 24,
   "id": "6347e0a3-c77e-43e7-994e-07de2b5177dc",
   "metadata": {},
   "outputs": [
    {
     "name": "stderr",
     "output_type": "stream",
     "text": [
      "                                                                                                                                                   \r"
     ]
    },
    {
     "data": {
      "text/html": [
       "<video src=\"media/jupyter/TextScene@2023-08-02@20-26-56.mp4\" controls autoplay loop style=\"max-width: 60%;\"  >\n",
       "      Your browser does not support the <code>video</code> element.\n",
       "    </video>"
      ],
      "text/plain": [
       "<IPython.core.display.Video object>"
      ]
     },
     "metadata": {},
     "output_type": "display_data"
    }
   ],
   "source": [
    "%%manim -v WARNING -qh TextScene\n",
    "\n",
    "        \n",
    "class TextScene(Scene):\n",
    "    def construct(self):\n",
    "        text = Text(\"Ahoj, tohle je fakt cool!\")\n",
    "\n",
    "        self.play(Write(text))\n",
    "\n",
    "        tex = Tex(\"Ahoj, cool vzoreček: $\\sum_{i = 1}^{\\infty} i^2$.\")\n",
    "        tex.next_to(text, DOWN)\n",
    "\n",
    "        self.play(Write(tex))"
   ]
  },
  {
   "cell_type": "code",
   "execution_count": 26,
   "id": "0afe0c0f-e943-4565-a741-80b410596e27",
   "metadata": {},
   "outputs": [
    {
     "name": "stderr",
     "output_type": "stream",
     "text": [
      "                                                                                                                                                   \r"
     ]
    },
    {
     "data": {
      "text/html": [
       "<video src=\"media/jupyter/GroupScene@2023-08-02@20-32-49.mp4\" controls autoplay loop style=\"max-width: 60%;\"  >\n",
       "      Your browser does not support the <code>video</code> element.\n",
       "    </video>"
      ],
      "text/plain": [
       "<IPython.core.display.Video object>"
      ]
     },
     "metadata": {},
     "output_type": "display_data"
    }
   ],
   "source": [
    "%%manim -v WARNING -qh GroupScene\n",
    "\n",
    "        \n",
    "class GroupScene(Scene):\n",
    "    def construct(self):\n",
    "        square = Square().shift(LEFT * 1.5)\n",
    "        circle = Circle().shift(RIGHT * 1.5)\n",
    "\n",
    "        group = VGroup(square, circle)\n",
    "\n",
    "        self.play(FadeIn(square, circle))\n",
    "\n",
    "        self.play(group.animate.scale(1.5).set_color(GREEN).rotate(PI / 12))"
   ]
  },
  {
   "cell_type": "code",
   "execution_count": 35,
   "id": "e41eda28-8b54-4fb0-8bfe-6ac625143140",
   "metadata": {},
   "outputs": [
    {
     "name": "stderr",
     "output_type": "stream",
     "text": [
      "                                                                                                                                                   \r"
     ]
    },
    {
     "data": {
      "text/html": [
       "<video src=\"media/jupyter/LargeGroupScene@2023-08-02@20-42-37.mp4\" controls autoplay loop style=\"max-width: 60%;\"  >\n",
       "      Your browser does not support the <code>video</code> element.\n",
       "    </video>"
      ],
      "text/plain": [
       "<IPython.core.display.Video object>"
      ]
     },
     "metadata": {},
     "output_type": "display_data"
    }
   ],
   "source": [
    "%%manim -v WARNING -qh LargeGroupScene\n",
    "\n",
    "        \n",
    "class LargeGroupScene(Scene):\n",
    "    def construct(self):\n",
    "        squares = VGroup()\n",
    "\n",
    "        for i in range(100):\n",
    "            squares.add(Square())\n",
    "\n",
    "        squares.arrange_in_grid(rows=10, buff=0).scale(2/10)\n",
    "        \n",
    "        self.play(FadeIn(squares))\n",
    "\n",
    "        self.wait(1.5)"
   ]
  },
  {
   "cell_type": "code",
   "execution_count": 37,
   "id": "ce090be7-f663-4a76-8c9d-876af672d6f9",
   "metadata": {},
   "outputs": [
    {
     "name": "stderr",
     "output_type": "stream",
     "text": [
      "                                                                                                                                                   \r"
     ]
    },
    {
     "data": {
      "text/html": [
       "<video src=\"media/jupyter/SVGScene@2023-08-02@20-47-39.mp4\" controls autoplay loop style=\"max-width: 60%;\"  >\n",
       "      Your browser does not support the <code>video</code> element.\n",
       "    </video>"
      ],
      "text/plain": [
       "<IPython.core.display.Video object>"
      ]
     },
     "metadata": {},
     "output_type": "display_data"
    }
   ],
   "source": [
    "%%manim -v WARNING -qh SVGScene\n",
    "\n",
    "        \n",
    "class SVGScene(Scene):\n",
    "    def construct(self):\n",
    "        self.camera.background_color = WHITE\n",
    "        \n",
    "        #img = ImageMObject(\"test.png\")\n",
    "        svg = SVGMobject(\"svg1.svg\")\n",
    "        \n",
    "        self.play(FadeIn(svg))"
   ]
  },
  {
   "cell_type": "code",
   "execution_count": 39,
   "id": "7826a1ee-cb24-4eae-a97f-7275df36b8ba",
   "metadata": {},
   "outputs": [
    {
     "name": "stderr",
     "output_type": "stream",
     "text": [
      "                                                                                                                                                   \r"
     ]
    },
    {
     "data": {
      "text/html": [
       "<video src=\"media/jupyter/UpdaterScene@2023-08-02@20-56-45.mp4\" controls autoplay loop style=\"max-width: 60%;\"  >\n",
       "      Your browser does not support the <code>video</code> element.\n",
       "    </video>"
      ],
      "text/plain": [
       "<IPython.core.display.Video object>"
      ]
     },
     "metadata": {},
     "output_type": "display_data"
    }
   ],
   "source": [
    "%%manim -v WARNING -qh UpdaterScene\n",
    "\n",
    "        \n",
    "class UpdaterScene(Scene):\n",
    "    def construct(self):\n",
    "        square = Square()\n",
    "        square_text = Tex(\"Tohle je cool čtverec.\").next_to(square, UP)\n",
    "\n",
    "        self.play(FadeIn(square, square_text))\n",
    "\n",
    "        def text_updater(obj, dt):\n",
    "            obj.next_to(square, UP)\n",
    "\n",
    "        square_text.add_updater(text_updater)\n",
    "\n",
    "        self.play(square.animate.shift(LEFT).scale(0.5).rotate(PI / 2))\n",
    "        self.play(square.animate.shift(RIGHT * 3))"
   ]
  },
  {
   "cell_type": "code",
   "execution_count": 41,
   "id": "c1b5e24e-a0ca-4f36-a241-4e9d2149e979",
   "metadata": {},
   "outputs": [
    {
     "name": "stderr",
     "output_type": "stream",
     "text": [
      "                                                                                                                                                   \r"
     ]
    },
    {
     "data": {
      "text/html": [
       "<video src=\"media/jupyter/CameraScene@2023-08-02@21-00-42.mp4\" controls autoplay loop style=\"max-width: 60%;\"  >\n",
       "      Your browser does not support the <code>video</code> element.\n",
       "    </video>"
      ],
      "text/plain": [
       "<IPython.core.display.Video object>"
      ]
     },
     "metadata": {},
     "output_type": "display_data"
    }
   ],
   "source": [
    "%%manim -v WARNING -qh CameraScene\n",
    "\n",
    "        \n",
    "class CameraScene(MovingCameraScene):\n",
    "    def construct(self):\n",
    "        triangle = Triangle(fill_opacity=1)\n",
    "\n",
    "        self.play(FadeIn(triangle))\n",
    "\n",
    "        self.play(self.camera.frame.animate.scale(0.25))"
   ]
  },
  {
   "cell_type": "code",
   "execution_count": 60,
   "id": "e049e3ad-7283-4a95-9794-390daf44d6df",
   "metadata": {},
   "outputs": [
    {
     "name": "stderr",
     "output_type": "stream",
     "text": [
      "                                                                                                                                                   \r"
     ]
    },
    {
     "data": {
      "text/html": [
       "<video src=\"media/jupyter/GraphScene@2023-08-02@21-30-48.mp4\" controls autoplay loop style=\"max-width: 60%;\"  >\n",
       "      Your browser does not support the <code>video</code> element.\n",
       "    </video>"
      ],
      "text/plain": [
       "<IPython.core.display.Video object>"
      ]
     },
     "metadata": {},
     "output_type": "display_data"
    }
   ],
   "source": [
    "%%manim -v WARNING -qh GraphScene\n",
    "\n",
    "        \n",
    "class GraphScene(MovingCameraScene):\n",
    "    def construct(self):\n",
    "        graph = Graph(\n",
    "            [1, 2, 3, 4, 5, 6],\n",
    "            [\n",
    "                (1, 2), (1, 3),\n",
    "                (2, 3), (2, 4),\n",
    "                (3, 4),\n",
    "                (4, 5), (4, 6),\n",
    "            ],\n",
    "            layout_config={\"seed\": 0},\n",
    "        )\n",
    "\n",
    "        for vertex in graph.vertices:\n",
    "            graph.vertices[vertex].scale(2)\n",
    "\n",
    "        graph.scale(2)\n",
    "\n",
    "        self.play(Write(graph))\n",
    "\n",
    "        start = 1\n",
    "        self.play(\n",
    "            *[\n",
    "                graph.vertices[i].animate.set_color(DARK_GRAY)\n",
    "                for i in graph.vertices\n",
    "                if i != start\n",
    "            ],\n",
    "            *[\n",
    "                graph.edges[e].animate.set_color(DARK_GRAY)\n",
    "                for e in graph.edges\n",
    "            ]\n",
    "        )\n",
    "\n",
    "        def neighbours(graph, vertex):\n",
    "            n = []\n",
    "            for u, v in graph.edges:\n",
    "                if vertex == u:\n",
    "                    n.append(v)\n",
    "                elif vertex == v:\n",
    "                    n.append(u)\n",
    "            return n\n",
    "\n",
    "        def fix_edge(graph, e):\n",
    "            if e not in graph.edges:\n",
    "                e = (e[1], e[0])\n",
    "            return e\n",
    "\n",
    "        queue = [start]\n",
    "        explored = {start}\n",
    "        while len(queue) != 0:\n",
    "            current = queue.pop(0)\n",
    "            self.play(\n",
    "                graph.vertices[current].animate.set_color(GREEN),\n",
    "                self.camera.frame.animate.move_to(graph.vertices[current]),\n",
    "            )\n",
    "\n",
    "            newly_added_neighbours = []\n",
    "            for neighbour in neighbours(graph, current):\n",
    "                if neighbour in explored:\n",
    "                    continue\n",
    "\n",
    "                explored.add(neighbour)\n",
    "                queue.append(neighbour)\n",
    "                newly_added_neighbours.append(neighbour)\n",
    "\n",
    "            if len(newly_added_neighbours) != 0:\n",
    "                self.play(\n",
    "                    *[\n",
    "                        graph.vertices[n].animate.set_color(WHITE)\n",
    "                        for n in newly_added_neighbours\n",
    "                    ],\n",
    "                    *[\n",
    "                        graph.edges[fix_edge(graph, (current, n))].animate.set_color(WHITE)\n",
    "                        for n in newly_added_neighbours\n",
    "                    ],\n",
    "                    \n",
    "                )"
   ]
  },
  {
   "cell_type": "code",
   "execution_count": 61,
   "id": "97cc193d-cbd1-458b-9f67-471a91aa6b03",
   "metadata": {},
   "outputs": [
    {
     "name": "stderr",
     "output_type": "stream",
     "text": [
      "                                                                                                                                                   \r"
     ]
    },
    {
     "data": {
      "text/html": [
       "<video src=\"media/jupyter/SaveRestoreScene@2023-08-02@21-34-23.mp4\" controls autoplay loop style=\"max-width: 60%;\"  >\n",
       "      Your browser does not support the <code>video</code> element.\n",
       "    </video>"
      ],
      "text/plain": [
       "<IPython.core.display.Video object>"
      ]
     },
     "metadata": {},
     "output_type": "display_data"
    }
   ],
   "source": [
    "%%manim -v WARNING -qh SaveRestoreScene\n",
    "\n",
    "        \n",
    "class SaveRestoreScene(MovingCameraScene):\n",
    "    def construct(self):\n",
    "        triangle = Triangle(fill_opacity=1)\n",
    "\n",
    "        self.play(FadeIn(triangle))\n",
    "\n",
    "        triangle.save_state()\n",
    "\n",
    "        for i in range(2):\n",
    "            self.play(triangle.animate.scale(1.5).set_color(GREEN).shift(DOWN).rotate(-PI / 12))\n",
    "\n",
    "        self.play(triangle.animate.restore())        "
   ]
  },
  {
   "cell_type": "code",
   "execution_count": null,
   "id": "b5e21ead-26d9-4ad2-9c50-fbf50c6a32c4",
   "metadata": {},
   "outputs": [],
   "source": []
  }
 ],
 "metadata": {
  "kernelspec": {
   "display_name": "Python 3 (ipykernel)",
   "language": "python",
   "name": "python3"
  },
  "language_info": {
   "codemirror_mode": {
    "name": "ipython",
    "version": 3
   },
   "file_extension": ".py",
   "mimetype": "text/x-python",
   "name": "python",
   "nbconvert_exporter": "python",
   "pygments_lexer": "ipython3",
   "version": "3.11.3"
  }
 },
 "nbformat": 4,
 "nbformat_minor": 5
}
